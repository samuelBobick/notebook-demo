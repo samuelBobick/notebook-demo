{
 "cells": [
  {
   "cell_type": "markdown",
   "id": "8c7fe42c-2d0e-4659-a5ae-35b7d78db171",
   "metadata": {},
   "source": [
    "# Authoring Jupyter Notebooks for Data Science Education"
   ]
  },
  {
   "cell_type": "markdown",
   "id": "5f9a9d5d-a35d-45b4-9fd1-ca42bd856b4e",
   "metadata": {},
   "source": [
    "This is a demo notebook on creating Jupyter notebooks for education for the 2023 National Workshop on Data Science Education at UC Berkeley."
   ]
  },
  {
   "cell_type": "markdown",
   "id": "3d574f52-d167-4f39-a990-75a86f3b49a2",
   "metadata": {},
   "source": [
    "## Importing Modules"
   ]
  },
  {
   "cell_type": "markdown",
   "id": "8f4da055-1bb7-418f-93e3-3037cf432fee",
   "metadata": {},
   "source": [
    "First we must import the libraries that we will use in this notebook. Select the following cell and hit shift-enter to run the cell. You can also run the cell by clicking on the \"Run\" button in the above Jupyter pane. When working with students, a common bug is forgetting to run this cell."
   ]
  },
  {
   "cell_type": "code",
   "execution_count": 3,
   "id": "ab32a90a-2a12-4143-9ec3-08ec28839404",
   "metadata": {},
   "outputs": [],
   "source": [
    "# Don't change this cell; just run it. \n",
    "import numpy as np\n",
    "from datascience import *"
   ]
  },
  {
   "cell_type": "markdown",
   "id": "958db7e7-335d-492d-b44f-bc2242d01422",
   "metadata": {},
   "source": [
    "## Adding Markdown Cells\n",
    "\n",
    "Instructions and background information can be added to Jupyter notebooks with markdown cells. Right click on this cell and play around with editing the markdown cell.\n",
    "\n",
    "### Some Useful Features\n",
    "\n",
    "You can insert equations with LaTeX:\n",
    "\n",
    "\\begin{equation} \n",
    "e^{\\pi i} + 1 = 0\n",
    "\\end{equation}\n",
    "\n",
    "You can add tables:\n",
    "\n",
    "| Function | Description                                                   |\n",
    "|----------|---------------------------------------------------------------|\n",
    "| `abs`      | Returns the absolute value of its argument                    |\n",
    "| `max`      | Returns the maximum of all its arguments                      |\n",
    "| `min`      | Returns the minimum of all its arguments                      |\n",
    "| `pow`      | Raises its first argument to the power of its second argument |\n",
    "| `round`    | Rounds its argument to the nearest integer                     |\n",
    "\n",
    "\n",
    "You can denote important information in **bold**, *italics*, or <span style=\"color: #BC412B\">**color**</span>.\n",
    "\n",
    "You can add [links](https://www.espn.com/college-football/game/_/gameId/401404041).\n",
    "\n",
    "You can insert images:\n",
    "\n",
    "<img src=\"images/data8.png\">"
   ]
  },
  {
   "cell_type": "markdown",
   "id": "ef9cdf4c-e893-46d1-bb4a-db531fe9d703",
   "metadata": {},
   "source": [
    "## Loading Data into a Table"
   ]
  },
  {
   "cell_type": "markdown",
   "id": "f7b814e1-97e4-4dd2-b096-5dc882d6c15a",
   "metadata": {},
   "source": [
    "We can create tables in several different ways with the `datascience` module. One such way is to do it manually via `with_columns`:"
   ]
  },
  {
   "cell_type": "code",
   "execution_count": 6,
   "id": "035b4ac2-abb6-4034-ba98-25313638867a",
   "metadata": {},
   "outputs": [
    {
     "data": {
      "text/html": [
       "<table border=\"1\" class=\"dataframe\">\n",
       "    <thead>\n",
       "        <tr>\n",
       "            <th>Player</th> <th>Points</th> <th>Assists</th>\n",
       "        </tr>\n",
       "    </thead>\n",
       "    <tbody>\n",
       "        <tr>\n",
       "            <td>Curry </td> <td>31    </td> <td>6      </td>\n",
       "        </tr>\n",
       "        <tr>\n",
       "            <td>James </td> <td>25    </td> <td>9      </td>\n",
       "        </tr>\n",
       "        <tr>\n",
       "            <td>Jokic </td> <td>29    </td> <td>12     </td>\n",
       "        </tr>\n",
       "        <tr>\n",
       "            <td>Butler</td> <td>19    </td> <td>10     </td>\n",
       "        </tr>\n",
       "    </tbody>\n",
       "</table>"
      ],
      "text/plain": [
       "Player | Points | Assists\n",
       "Curry  | 31     | 6\n",
       "James  | 25     | 9\n",
       "Jokic  | 29     | 12\n",
       "Butler | 19     | 10"
      ]
     },
     "execution_count": 6,
     "metadata": {},
     "output_type": "execute_result"
    }
   ],
   "source": [
    "t = Table().with_columns(\n",
    "    'Player', ['Curry', 'James', 'Jokic', 'Butler'],\n",
    "    'Points',  [  31,   25,   29,   19],\n",
    "    'Assists', [  6,   9,   12,  10],\n",
    ")\n",
    "t"
   ]
  },
  {
   "cell_type": "markdown",
   "id": "a0f27829-5d6f-4108-b652-bebdc3556675",
   "metadata": {},
   "source": [
    "More commonly, we will want to load data from a pre-existing csv file."
   ]
  },
  {
   "cell_type": "code",
   "execution_count": 13,
   "id": "b75472ef-e22f-43cf-8afe-773b6b084a44",
   "metadata": {},
   "outputs": [
    {
     "data": {
      "text/html": [
       "<table border=\"1\" class=\"dataframe\">\n",
       "    <thead>\n",
       "        <tr>\n",
       "            <th>X</th> <th>Y</th> <th>OBJECTID</th> <th>CECPlantID</th> <th>PlantName</th> <th>Retired_Plant</th> <th>OperatorCompanyID</th> <th>County</th> <th>Capacity_Latest</th> <th>Units</th> <th>PriEnergySource</th> <th>StartDate</th>\n",
       "        </tr>\n",
       "    </thead>\n",
       "    <tbody>\n",
       "        <tr>\n",
       "            <td>-119.568</td> <td>36.1372</td> <td>1865    </td> <td>S0335     </td> <td>Corcoran 2 Solar LLC CED      </td> <td>0            </td> <td>CED California Holdings LLC</td> <td>Kings </td> <td>19.8           </td> <td>1     </td> <td>SUN            </td> <td>2015/06/10 00:00:00+00</td>\n",
       "        </tr>\n",
       "        <tr>\n",
       "            <td>-119.58 </td> <td>36.1443</td> <td>1866    </td> <td>S0520     </td> <td>Corcoran 3 Solar              </td> <td>0            </td> <td>CED California Holdings LLC</td> <td>Kings </td> <td>20             </td> <td>Unit 1</td> <td>SUN            </td> <td>2016/02/11 00:00:00+00</td>\n",
       "        </tr>\n",
       "        <tr>\n",
       "            <td>-119.648</td> <td>36.2696</td> <td>1867    </td> <td>C0007     </td> <td>Hanford - Retired October 2011</td> <td>1            </td> <td>Hanford LP                 </td> <td>Kings </td> <td>24             </td> <td>GEN 1 </td> <td>PC             </td> <td>1990/09/01 00:00:00+00</td>\n",
       "        </tr>\n",
       "        <tr>\n",
       "            <td>-119.647</td> <td>36.2703</td> <td>1868    </td> <td>G0832     </td> <td>Hanford Energy Park Peaker    </td> <td>0            </td> <td>MRP San Joaquin Energy, LLC</td> <td>Kings </td> <td>92             </td> <td>1, 2  </td> <td>NG             </td> <td>2001/09/01 00:00:00+00</td>\n",
       "        </tr>\n",
       "        <tr>\n",
       "            <td>-119.128</td> <td>36.2663</td> <td>1869    </td> <td>S0608     </td> <td>Exeter Solar                  </td> <td>0            </td> <td>Tulare PV I LLC            </td> <td>Tulare</td> <td>3.5            </td> <td>ES    </td> <td>SUN            </td> <td>2014/02/12 00:00:00+00</td>\n",
       "        </tr>\n",
       "    </tbody>\n",
       "</table>\n",
       "<p>... (1797 rows omitted)</p>"
      ],
      "text/plain": [
       "<IPython.core.display.HTML object>"
      ]
     },
     "metadata": {},
     "output_type": "display_data"
    }
   ],
   "source": [
    "power_plants = Table().read_table('data/California_Power_Plants.csv')\t\n",
    "power_plants.show(5)"
   ]
  },
  {
   "cell_type": "markdown",
   "id": "12612e22-4402-4a87-af5e-02f8856232c8",
   "metadata": {},
   "source": [
    "You can also load data from a URL."
   ]
  },
  {
   "cell_type": "code",
   "execution_count": 12,
   "id": "ad101549-9091-4fa9-8c12-2a3eabc32e0f",
   "metadata": {},
   "outputs": [
    {
     "data": {
      "text/html": [
       "<table border=\"1\" class=\"dataframe\">\n",
       "    <thead>\n",
       "        <tr>\n",
       "            <th>State</th> <th>Participation Rate</th> <th>Critical Reading</th> <th>Math</th> <th>Writing</th> <th>Combined</th>\n",
       "        </tr>\n",
       "    </thead>\n",
       "    <tbody>\n",
       "        <tr>\n",
       "            <td>North Dakota</td> <td>2.3               </td> <td>612             </td> <td>620 </td> <td>584    </td> <td>1816    </td>\n",
       "        </tr>\n",
       "        <tr>\n",
       "            <td>Illinois    </td> <td>4.6               </td> <td>599             </td> <td>616 </td> <td>587    </td> <td>1802    </td>\n",
       "        </tr>\n",
       "        <tr>\n",
       "            <td>Iowa        </td> <td>3.1               </td> <td>605             </td> <td>611 </td> <td>578    </td> <td>1794    </td>\n",
       "        </tr>\n",
       "        <tr>\n",
       "            <td>South Dakota</td> <td>2.9               </td> <td>604             </td> <td>609 </td> <td>579    </td> <td>1792    </td>\n",
       "        </tr>\n",
       "        <tr>\n",
       "            <td>Minnesota   </td> <td>5.9               </td> <td>598             </td> <td>610 </td> <td>578    </td> <td>1786    </td>\n",
       "        </tr>\n",
       "    </tbody>\n",
       "</table>\n",
       "<p>... (46 rows omitted)</p>"
      ],
      "text/plain": [
       "<IPython.core.display.HTML object>"
      ]
     },
     "metadata": {},
     "output_type": "display_data"
    }
   ],
   "source": [
    "sat = Table().read_table('https://www.inferentialthinking.com/data/sat2014.csv')\n",
    "sat.show(5)"
   ]
  },
  {
   "cell_type": "markdown",
   "id": "d73c2056-ca8e-4d74-a527-e382c9897671",
   "metadata": {},
   "source": [
    "## Writing Questions\n",
    "TODO"
   ]
  },
  {
   "cell_type": "markdown",
   "id": "2f67d908-3d34-4aa0-bb56-cada1b4b9ba1",
   "metadata": {},
   "source": [
    "## Common Student Errors"
   ]
  },
  {
   "cell_type": "code",
   "execution_count": 22,
   "id": "663b317d-40e9-44cd-b13b-05540c860b19",
   "metadata": {},
   "outputs": [
    {
     "data": {
      "text/html": [
       "<table border=\"1\" class=\"dataframe\">\n",
       "    <thead>\n",
       "        <tr>\n",
       "            <th>State</th> <th>Participation Rate</th> <th>Critical Reading</th> <th>Math</th> <th>Writing</th> <th>Combined</th>\n",
       "        </tr>\n",
       "    </thead>\n",
       "    <tbody>\n",
       "        <tr>\n",
       "            <td>North Dakota</td> <td>2.3               </td> <td>612             </td> <td>620 </td> <td>584    </td> <td>1816    </td>\n",
       "        </tr>\n",
       "        <tr>\n",
       "            <td>Illinois    </td> <td>4.6               </td> <td>599             </td> <td>616 </td> <td>587    </td> <td>1802    </td>\n",
       "        </tr>\n",
       "        <tr>\n",
       "            <td>Iowa        </td> <td>3.1               </td> <td>605             </td> <td>611 </td> <td>578    </td> <td>1794    </td>\n",
       "        </tr>\n",
       "        <tr>\n",
       "            <td>South Dakota</td> <td>2.9               </td> <td>604             </td> <td>609 </td> <td>579    </td> <td>1792    </td>\n",
       "        </tr>\n",
       "        <tr>\n",
       "            <td>Minnesota   </td> <td>5.9               </td> <td>598             </td> <td>610 </td> <td>578    </td> <td>1786    </td>\n",
       "        </tr>\n",
       "    </tbody>\n",
       "</table>\n",
       "<p>... (46 rows omitted)</p>"
      ],
      "text/plain": [
       "<IPython.core.display.HTML object>"
      ]
     },
     "metadata": {},
     "output_type": "display_data"
    }
   ],
   "source": [
    "sat = Table().read_table('https://www.inferentialthinking.com/data/sat2014.csv')\n",
    "sat.show(5)"
   ]
  },
  {
   "cell_type": "markdown",
   "id": "55dc060f-7f35-4df8-b5a7-2ad1e4c08276",
   "metadata": {},
   "source": [
    "One common student error is destructively modifying data and rerunning past cells. For example, try running the below cell twice. The first time works fine, but the second time there is an error because the `state` column no longer exists in the table!"
   ]
  },
  {
   "cell_type": "code",
   "execution_count": 24,
   "id": "95e532e3-591b-4cf3-9b38-cbafde35566a",
   "metadata": {},
   "outputs": [
    {
     "ename": "ValueError",
     "evalue": "The column \"State\" is not in the table. The table contains these columns: Participation Rate, Critical Reading, Math, Writing, Combined",
     "output_type": "error",
     "traceback": [
      "\u001b[0;31m---------------------------------------------------------------------------\u001b[0m",
      "\u001b[0;31mValueError\u001b[0m                                Traceback (most recent call last)",
      "Cell \u001b[0;32mIn[24], line 1\u001b[0m\n\u001b[0;32m----> 1\u001b[0m states_arr \u001b[38;5;241m=\u001b[39m \u001b[43msat\u001b[49m\u001b[38;5;241;43m.\u001b[39;49m\u001b[43mcolumn\u001b[49m\u001b[43m(\u001b[49m\u001b[38;5;124;43m'\u001b[39;49m\u001b[38;5;124;43mState\u001b[39;49m\u001b[38;5;124;43m'\u001b[39;49m\u001b[43m)\u001b[49m\n\u001b[1;32m      2\u001b[0m sat \u001b[38;5;241m=\u001b[39m sat\u001b[38;5;241m.\u001b[39mdrop(\u001b[38;5;124m'\u001b[39m\u001b[38;5;124mState\u001b[39m\u001b[38;5;124m'\u001b[39m)\n\u001b[1;32m      3\u001b[0m sat\u001b[38;5;241m.\u001b[39mshow(\u001b[38;5;241m5\u001b[39m)\n",
      "File \u001b[0;32m/opt/anaconda3/lib/python3.9/site-packages/datascience/tables.py:448\u001b[0m, in \u001b[0;36mTable.column\u001b[0;34m(self, index_or_label)\u001b[0m\n\u001b[1;32m    423\u001b[0m \u001b[38;5;250m\u001b[39m\u001b[38;5;124;03m\"\"\"Return the values of a column as an array.\u001b[39;00m\n\u001b[1;32m    424\u001b[0m \n\u001b[1;32m    425\u001b[0m \u001b[38;5;124;03mtable.column(label) is equivalent to table[label].\u001b[39;00m\n\u001b[0;32m   (...)\u001b[0m\n\u001b[1;32m    444\u001b[0m \u001b[38;5;124;03m    ``ValueError``: When the ``index_or_label`` is not in the table.\u001b[39;00m\n\u001b[1;32m    445\u001b[0m \u001b[38;5;124;03m\"\"\"\u001b[39;00m\n\u001b[1;32m    446\u001b[0m \u001b[38;5;28;01mif\u001b[39;00m (\u001b[38;5;28misinstance\u001b[39m(index_or_label, \u001b[38;5;28mstr\u001b[39m)\n\u001b[1;32m    447\u001b[0m         \u001b[38;5;129;01mand\u001b[39;00m index_or_label \u001b[38;5;129;01mnot\u001b[39;00m \u001b[38;5;129;01min\u001b[39;00m \u001b[38;5;28mself\u001b[39m\u001b[38;5;241m.\u001b[39mlabels):\n\u001b[0;32m--> 448\u001b[0m     \u001b[38;5;28;01mraise\u001b[39;00m \u001b[38;5;167;01mValueError\u001b[39;00m(\n\u001b[1;32m    449\u001b[0m         \u001b[38;5;124m'\u001b[39m\u001b[38;5;124mThe column \u001b[39m\u001b[38;5;124m\"\u001b[39m\u001b[38;5;132;01m{}\u001b[39;00m\u001b[38;5;124m\"\u001b[39m\u001b[38;5;124m is not in the table. The table contains \u001b[39m\u001b[38;5;124m'\u001b[39m\n\u001b[1;32m    450\u001b[0m         \u001b[38;5;124m'\u001b[39m\u001b[38;5;124mthese columns: \u001b[39m\u001b[38;5;132;01m{}\u001b[39;00m\u001b[38;5;124m'\u001b[39m\n\u001b[1;32m    451\u001b[0m         \u001b[38;5;241m.\u001b[39mformat(index_or_label, \u001b[38;5;124m'\u001b[39m\u001b[38;5;124m, \u001b[39m\u001b[38;5;124m'\u001b[39m\u001b[38;5;241m.\u001b[39mjoin(\u001b[38;5;28mself\u001b[39m\u001b[38;5;241m.\u001b[39mlabels))\n\u001b[1;32m    452\u001b[0m     )\n\u001b[1;32m    453\u001b[0m \u001b[38;5;28;01mif\u001b[39;00m (\u001b[38;5;28misinstance\u001b[39m(index_or_label, \u001b[38;5;28mint\u001b[39m)\n\u001b[1;32m    454\u001b[0m         \u001b[38;5;129;01mand\u001b[39;00m \u001b[38;5;129;01mnot\u001b[39;00m \u001b[38;5;241m0\u001b[39m \u001b[38;5;241m<\u001b[39m\u001b[38;5;241m=\u001b[39m index_or_label \u001b[38;5;241m<\u001b[39m \u001b[38;5;28mlen\u001b[39m(\u001b[38;5;28mself\u001b[39m\u001b[38;5;241m.\u001b[39mlabels)):\n\u001b[1;32m    455\u001b[0m     \u001b[38;5;28;01mraise\u001b[39;00m \u001b[38;5;167;01mValueError\u001b[39;00m(\n\u001b[1;32m    456\u001b[0m         \u001b[38;5;124m'\u001b[39m\u001b[38;5;124mThe index \u001b[39m\u001b[38;5;132;01m{}\u001b[39;00m\u001b[38;5;124m is not in the table. Only indices between \u001b[39m\u001b[38;5;124m'\u001b[39m\n\u001b[1;32m    457\u001b[0m         \u001b[38;5;124m'\u001b[39m\u001b[38;5;124m0 and \u001b[39m\u001b[38;5;132;01m{}\u001b[39;00m\u001b[38;5;124m are valid\u001b[39m\u001b[38;5;124m'\u001b[39m\n\u001b[1;32m    458\u001b[0m         \u001b[38;5;241m.\u001b[39mformat(index_or_label, \u001b[38;5;28mlen\u001b[39m(\u001b[38;5;28mself\u001b[39m\u001b[38;5;241m.\u001b[39mlabels) \u001b[38;5;241m-\u001b[39m \u001b[38;5;241m1\u001b[39m)\n\u001b[1;32m    459\u001b[0m     )\n",
      "\u001b[0;31mValueError\u001b[0m: The column \"State\" is not in the table. The table contains these columns: Participation Rate, Critical Reading, Math, Writing, Combined"
     ]
    }
   ],
   "source": [
    "states_arr = sat.column('State')\n",
    "sat = sat.drop('State')\n",
    "sat.show(5)"
   ]
  },
  {
   "cell_type": "markdown",
   "id": "0310e04a-f71d-4f10-adc2-f01204734414",
   "metadata": {},
   "source": [
    "## Keyboard Shortcuts\n",
    "TODO"
   ]
  }
 ],
 "metadata": {
  "kernelspec": {
   "display_name": "Python 3 (ipykernel)",
   "language": "python",
   "name": "python3"
  },
  "language_info": {
   "codemirror_mode": {
    "name": "ipython",
    "version": 3
   },
   "file_extension": ".py",
   "mimetype": "text/x-python",
   "name": "python",
   "nbconvert_exporter": "python",
   "pygments_lexer": "ipython3",
   "version": "3.9.16"
  }
 },
 "nbformat": 4,
 "nbformat_minor": 5
}
