{
 "cells": [
  {
   "cell_type": "markdown",
   "id": "8c7fe42c-2d0e-4659-a5ae-35b7d78db171",
   "metadata": {},
   "source": [
    "# Authoring Jupyter Notebooks for Data Science Education"
   ]
  },
  {
   "cell_type": "markdown",
   "id": "5f9a9d5d-a35d-45b4-9fd1-ca42bd856b4e",
   "metadata": {},
   "source": [
    "This is a demo notebook on creating Jupyter notebooks for education for the 2023 National Workshop on Data Science Education at UC Berkeley."
   ]
  },
  {
   "cell_type": "markdown",
   "id": "3d574f52-d167-4f39-a990-75a86f3b49a2",
   "metadata": {},
   "source": [
    "## Importing Libraries"
   ]
  },
  {
   "cell_type": "markdown",
   "id": "8f4da055-1bb7-418f-93e3-3037cf432fee",
   "metadata": {},
   "source": [
    "First we must import the libraries that we will use in this notebook. Select the following cell and hit shift-enter to run the cell. You can also run the cell by clicking on the \"Run\" button in the above Jupyter pane."
   ]
  },
  {
   "cell_type": "code",
   "execution_count": 3,
   "id": "ab32a90a-2a12-4143-9ec3-08ec28839404",
   "metadata": {},
   "outputs": [],
   "source": [
    "# Don't change this cell; just run it. \n",
    "import numpy as np\n",
    "from datascience import *"
   ]
  },
  {
   "cell_type": "markdown",
   "id": "958db7e7-335d-492d-b44f-bc2242d01422",
   "metadata": {},
   "source": [
    "## Adding Markdown Cells\n",
    "\n",
    "Instructions and background information can be added to Jupyter notebooks with markdown cells. Right click on this cell and play around with editing the markdown cell.\n",
    "\n",
    "### Some Useful Features\n",
    "\n",
    "You can insert equations with LaTeX:\n",
    "\n",
    "\\begin{equation} \n",
    "e^{\\pi i} + 1 = 0\n",
    "\\end{equation}\n",
    "\n",
    "You can add tables:\n",
    "\n",
    "| Function | Description                                                   |\n",
    "|----------|---------------------------------------------------------------|\n",
    "| `abs`      | Returns the absolute value of its argument                    |\n",
    "| `max`      | Returns the maximum of all its arguments                      |\n",
    "| `min`      | Returns the minimum of all its arguments                      |\n",
    "| `pow`      | Raises its first argument to the power of its second argument |\n",
    "| `round`    | Rounds its argument to the nearest integer                     |\n",
    "\n",
    "\n",
    "You can denote important information in **bold**, *italics*, or <span style=\"color: #BC412B\">**color**</span>.\n",
    "\n",
    "You can add [links](https://www.espn.com/college-football/game/_/gameId/401404041).\n",
    "\n",
    "You can insert images:\n",
    "\n",
    "<img src=\"data8.png\">"
   ]
  },
  {
   "cell_type": "markdown",
   "id": "ef9cdf4c-e893-46d1-bb4a-db531fe9d703",
   "metadata": {},
   "source": [
    "## Loading Data into a Table"
   ]
  },
  {
   "cell_type": "markdown",
   "id": "f7b814e1-97e4-4dd2-b096-5dc882d6c15a",
   "metadata": {},
   "source": [
    "We can create tables in several different ways with the `datascience` module. One such way is to do it manually via `with_columns`:"
   ]
  },
  {
   "cell_type": "code",
   "execution_count": 6,
   "id": "035b4ac2-abb6-4034-ba98-25313638867a",
   "metadata": {},
   "outputs": [
    {
     "data": {
      "text/html": [
       "<table border=\"1\" class=\"dataframe\">\n",
       "    <thead>\n",
       "        <tr>\n",
       "            <th>Player</th> <th>Points</th> <th>Assists</th>\n",
       "        </tr>\n",
       "    </thead>\n",
       "    <tbody>\n",
       "        <tr>\n",
       "            <td>Curry </td> <td>31    </td> <td>6      </td>\n",
       "        </tr>\n",
       "        <tr>\n",
       "            <td>James </td> <td>25    </td> <td>9      </td>\n",
       "        </tr>\n",
       "        <tr>\n",
       "            <td>Jokic </td> <td>29    </td> <td>12     </td>\n",
       "        </tr>\n",
       "        <tr>\n",
       "            <td>Butler</td> <td>19    </td> <td>10     </td>\n",
       "        </tr>\n",
       "    </tbody>\n",
       "</table>"
      ],
      "text/plain": [
       "Player | Points | Assists\n",
       "Curry  | 31     | 6\n",
       "James  | 25     | 9\n",
       "Jokic  | 29     | 12\n",
       "Butler | 19     | 10"
      ]
     },
     "execution_count": 6,
     "metadata": {},
     "output_type": "execute_result"
    }
   ],
   "source": [
    "t = Table().with_columns(\n",
    "    'Player', ['Curry', 'James', 'Jokic', 'Butler'],\n",
    "    'Points',  [  31,   25,   29,   19],\n",
    "    'Assists', [  6,   9,   12,  10],\n",
    ")\n",
    "t"
   ]
  },
  {
   "cell_type": "markdown",
   "id": "a0f27829-5d6f-4108-b652-bebdc3556675",
   "metadata": {},
   "source": [
    "More commonly, we will want to load data from a pre-existing csv file."
   ]
  },
  {
   "cell_type": "code",
   "execution_count": 8,
   "id": "b75472ef-e22f-43cf-8afe-773b6b084a44",
   "metadata": {},
   "outputs": [
    {
     "data": {
      "text/html": [
       "<table border=\"1\" class=\"dataframe\">\n",
       "    <thead>\n",
       "        <tr>\n",
       "            <th>X</th> <th>Y</th> <th>OBJECTID</th> <th>CECPlantID</th> <th>PlantName</th> <th>Retired_Plant</th> <th>OperatorCompanyID</th> <th>County</th> <th>Capacity_Latest</th> <th>Units</th> <th>PriEnergySource</th> <th>StartDate</th>\n",
       "        </tr>\n",
       "    </thead>\n",
       "    <tbody>\n",
       "        <tr>\n",
       "            <td>-119.568</td> <td>36.1372</td> <td>1865    </td> <td>S0335     </td> <td>Corcoran 2 Solar LLC CED              </td> <td>0            </td> <td>CED California Holdings LLC</td> <td>Kings </td> <td>19.8           </td> <td>1     </td> <td>SUN            </td> <td>2015/06/10 00:00:00+00</td>\n",
       "        </tr>\n",
       "        <tr>\n",
       "            <td>-119.58 </td> <td>36.1443</td> <td>1866    </td> <td>S0520     </td> <td>Corcoran 3 Solar                      </td> <td>0            </td> <td>CED California Holdings LLC</td> <td>Kings </td> <td>20             </td> <td>Unit 1</td> <td>SUN            </td> <td>2016/02/11 00:00:00+00</td>\n",
       "        </tr>\n",
       "        <tr>\n",
       "            <td>-119.648</td> <td>36.2696</td> <td>1867    </td> <td>C0007     </td> <td>Hanford - Retired October 2011        </td> <td>1            </td> <td>Hanford LP                 </td> <td>Kings </td> <td>24             </td> <td>GEN 1 </td> <td>PC             </td> <td>1990/09/01 00:00:00+00</td>\n",
       "        </tr>\n",
       "        <tr>\n",
       "            <td>-119.647</td> <td>36.2703</td> <td>1868    </td> <td>G0832     </td> <td>Hanford Energy Park Peaker            </td> <td>0            </td> <td>MRP San Joaquin Energy, LLC</td> <td>Kings </td> <td>92             </td> <td>1, 2  </td> <td>NG             </td> <td>2001/09/01 00:00:00+00</td>\n",
       "        </tr>\n",
       "        <tr>\n",
       "            <td>-119.128</td> <td>36.2663</td> <td>1869    </td> <td>S0608     </td> <td>Exeter Solar                          </td> <td>0            </td> <td>Tulare PV I LLC            </td> <td>Tulare</td> <td>3.5            </td> <td>ES    </td> <td>SUN            </td> <td>2014/02/12 00:00:00+00</td>\n",
       "        </tr>\n",
       "        <tr>\n",
       "            <td>-119.134</td> <td>36.2118</td> <td>1870    </td> <td>S0609     </td> <td>Lindsay Solar                         </td> <td>0            </td> <td>Tulare PV I LLC            </td> <td>Tulare</td> <td>4              </td> <td>LS    </td> <td>SUN            </td> <td>2014/01/15 00:00:00+00</td>\n",
       "        </tr>\n",
       "        <tr>\n",
       "            <td>-119.04 </td> <td>36.1037</td> <td>1871    </td> <td>S9325     </td> <td>ImModo California 1 LLC_(East Orosi 1)</td> <td>0            </td> <td>Not Available              </td> <td>Tulare</td> <td>1.5            </td> <td>Unit 1</td> <td>SUN            </td> <td>2013/12/31 00:00:00+00</td>\n",
       "        </tr>\n",
       "        <tr>\n",
       "            <td>-119.039</td> <td>36.1016</td> <td>1872    </td> <td>S9326     </td> <td>ImModo California 1 LLC_(East Orosi 2)</td> <td>0            </td> <td>Not Available              </td> <td>Tulare</td> <td>1.5            </td> <td>Unit 1</td> <td>SUN            </td> <td>2013/12/31 00:00:00+00</td>\n",
       "        </tr>\n",
       "        <tr>\n",
       "            <td>-119.037</td> <td>36.0997</td> <td>1873    </td> <td>S9327     </td> <td>ImModo California 1 LLC_(East Orosi 3)</td> <td>0            </td> <td>Not Available              </td> <td>Tulare</td> <td>1.5            </td> <td>Unit 1</td> <td>SUN            </td> <td>2013/12/31 00:00:00+00</td>\n",
       "        </tr>\n",
       "        <tr>\n",
       "            <td>-119.04 </td> <td>36.1028</td> <td>1874    </td> <td>S0151     </td> <td>Porterville Solar                     </td> <td>0            </td> <td>Tulare PV I LLC            </td> <td>Tulare</td> <td>3.5            </td> <td>PS    </td> <td>SUN            </td> <td>2014/01/13 00:00:00+00</td>\n",
       "        </tr>\n",
       "    </tbody>\n",
       "</table>\n",
       "<p>... (1792 rows omitted)</p>"
      ],
      "text/plain": [
       "X        | Y       | OBJECTID | CECPlantID | PlantName                              | Retired_Plant | OperatorCompanyID           | County | Capacity_Latest | Units  | PriEnergySource | StartDate\n",
       "-119.568 | 36.1372 | 1865     | S0335      | Corcoran 2 Solar LLC CED               | 0             | CED California Holdings LLC | Kings  | 19.8            | 1      | SUN             | 2015/06/10 00:00:00+00\n",
       "-119.58  | 36.1443 | 1866     | S0520      | Corcoran 3 Solar                       | 0             | CED California Holdings LLC | Kings  | 20              | Unit 1 | SUN             | 2016/02/11 00:00:00+00\n",
       "-119.648 | 36.2696 | 1867     | C0007      | Hanford - Retired October 2011         | 1             | Hanford LP                  | Kings  | 24              | GEN 1  | PC              | 1990/09/01 00:00:00+00\n",
       "-119.647 | 36.2703 | 1868     | G0832      | Hanford Energy Park Peaker             | 0             | MRP San Joaquin Energy, LLC | Kings  | 92              | 1, 2   | NG              | 2001/09/01 00:00:00+00\n",
       "-119.128 | 36.2663 | 1869     | S0608      | Exeter Solar                           | 0             | Tulare PV I LLC             | Tulare | 3.5             | ES     | SUN             | 2014/02/12 00:00:00+00\n",
       "-119.134 | 36.2118 | 1870     | S0609      | Lindsay Solar                          | 0             | Tulare PV I LLC             | Tulare | 4               | LS     | SUN             | 2014/01/15 00:00:00+00\n",
       "-119.04  | 36.1037 | 1871     | S9325      | ImModo California 1 LLC_(East Orosi 1) | 0             | Not Available               | Tulare | 1.5             | Unit 1 | SUN             | 2013/12/31 00:00:00+00\n",
       "-119.039 | 36.1016 | 1872     | S9326      | ImModo California 1 LLC_(East Orosi 2) | 0             | Not Available               | Tulare | 1.5             | Unit 1 | SUN             | 2013/12/31 00:00:00+00\n",
       "-119.037 | 36.0997 | 1873     | S9327      | ImModo California 1 LLC_(East Orosi 3) | 0             | Not Available               | Tulare | 1.5             | Unit 1 | SUN             | 2013/12/31 00:00:00+00\n",
       "-119.04  | 36.1028 | 1874     | S0151      | Porterville Solar                      | 0             | Tulare PV I LLC             | Tulare | 3.5             | PS     | SUN             | 2014/01/13 00:00:00+00\n",
       "... (1792 rows omitted)"
      ]
     },
     "execution_count": 8,
     "metadata": {},
     "output_type": "execute_result"
    }
   ],
   "source": [
    "power_plants = Table().read_table('California_Power_Plants.csv')\t\n",
    "power_plants"
   ]
  },
  {
   "cell_type": "markdown",
   "id": "12612e22-4402-4a87-af5e-02f8856232c8",
   "metadata": {},
   "source": [
    "You can also load data from a valid URL."
   ]
  },
  {
   "cell_type": "code",
   "execution_count": 10,
   "id": "ad101549-9091-4fa9-8c12-2a3eabc32e0f",
   "metadata": {},
   "outputs": [
    {
     "data": {
      "text/html": [
       "<table border=\"1\" class=\"dataframe\">\n",
       "    <thead>\n",
       "        <tr>\n",
       "            <th>State</th> <th>Participation Rate</th> <th>Critical Reading</th> <th>Math</th> <th>Writing</th> <th>Combined</th>\n",
       "        </tr>\n",
       "    </thead>\n",
       "    <tbody>\n",
       "        <tr>\n",
       "            <td>North Dakota</td> <td>2.3               </td> <td>612             </td> <td>620 </td> <td>584    </td> <td>1816    </td>\n",
       "        </tr>\n",
       "        <tr>\n",
       "            <td>Illinois    </td> <td>4.6               </td> <td>599             </td> <td>616 </td> <td>587    </td> <td>1802    </td>\n",
       "        </tr>\n",
       "        <tr>\n",
       "            <td>Iowa        </td> <td>3.1               </td> <td>605             </td> <td>611 </td> <td>578    </td> <td>1794    </td>\n",
       "        </tr>\n",
       "        <tr>\n",
       "            <td>South Dakota</td> <td>2.9               </td> <td>604             </td> <td>609 </td> <td>579    </td> <td>1792    </td>\n",
       "        </tr>\n",
       "        <tr>\n",
       "            <td>Minnesota   </td> <td>5.9               </td> <td>598             </td> <td>610 </td> <td>578    </td> <td>1786    </td>\n",
       "        </tr>\n",
       "        <tr>\n",
       "            <td>Michigan    </td> <td>3.8               </td> <td>593             </td> <td>610 </td> <td>581    </td> <td>1784    </td>\n",
       "        </tr>\n",
       "        <tr>\n",
       "            <td>Wisconsin   </td> <td>3.9               </td> <td>596             </td> <td>608 </td> <td>578    </td> <td>1782    </td>\n",
       "        </tr>\n",
       "        <tr>\n",
       "            <td>Missouri    </td> <td>4.2               </td> <td>595             </td> <td>597 </td> <td>579    </td> <td>1771    </td>\n",
       "        </tr>\n",
       "        <tr>\n",
       "            <td>Wyoming     </td> <td>3.3               </td> <td>590             </td> <td>599 </td> <td>573    </td> <td>1762    </td>\n",
       "        </tr>\n",
       "        <tr>\n",
       "            <td>Kansas      </td> <td>5.3               </td> <td>591             </td> <td>596 </td> <td>566    </td> <td>1753    </td>\n",
       "        </tr>\n",
       "    </tbody>\n",
       "</table>\n",
       "<p>... (41 rows omitted)</p>"
      ],
      "text/plain": [
       "State        | Participation Rate | Critical Reading | Math | Writing | Combined\n",
       "North Dakota | 2.3                | 612              | 620  | 584     | 1816\n",
       "Illinois     | 4.6                | 599              | 616  | 587     | 1802\n",
       "Iowa         | 3.1                | 605              | 611  | 578     | 1794\n",
       "South Dakota | 2.9                | 604              | 609  | 579     | 1792\n",
       "Minnesota    | 5.9                | 598              | 610  | 578     | 1786\n",
       "Michigan     | 3.8                | 593              | 610  | 581     | 1784\n",
       "Wisconsin    | 3.9                | 596              | 608  | 578     | 1782\n",
       "Missouri     | 4.2                | 595              | 597  | 579     | 1771\n",
       "Wyoming      | 3.3                | 590              | 599  | 573     | 1762\n",
       "Kansas       | 5.3                | 591              | 596  | 566     | 1753\n",
       "... (41 rows omitted)"
      ]
     },
     "execution_count": 10,
     "metadata": {},
     "output_type": "execute_result"
    }
   ],
   "source": [
    "sat = Table().read_table('https://www.inferentialthinking.com/data/sat2014.csv')\n",
    "sat"
   ]
  }
 ],
 "metadata": {
  "kernelspec": {
   "display_name": "Python 3 (ipykernel)",
   "language": "python",
   "name": "python3"
  },
  "language_info": {
   "codemirror_mode": {
    "name": "ipython",
    "version": 3
   },
   "file_extension": ".py",
   "mimetype": "text/x-python",
   "name": "python",
   "nbconvert_exporter": "python",
   "pygments_lexer": "ipython3",
   "version": "3.9.16"
  }
 },
 "nbformat": 4,
 "nbformat_minor": 5
}
