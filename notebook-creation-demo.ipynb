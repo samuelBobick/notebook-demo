{
 "cells": [
  {
   "cell_type": "markdown",
   "id": "8c7fe42c-2d0e-4659-a5ae-35b7d78db171",
   "metadata": {},
   "source": [
    "# Authoring Jupyter Notebooks for Data Science Education"
   ]
  },
  {
   "cell_type": "markdown",
   "id": "5f9a9d5d-a35d-45b4-9fd1-ca42bd856b4e",
   "metadata": {},
   "source": [
    "This is a demo notebook on creating Jupyter notebooks for education for the 2023 National Workshop on Data Science Education at UC Berkeley."
   ]
  },
  {
   "cell_type": "markdown",
   "id": "3d574f52-d167-4f39-a990-75a86f3b49a2",
   "metadata": {},
   "source": [
    "## Importing Modules"
   ]
  },
  {
   "cell_type": "markdown",
   "id": "8f4da055-1bb7-418f-93e3-3037cf432fee",
   "metadata": {},
   "source": [
    "First we must import the libraries that we will use in this notebook. Select the following cell and hit shift-enter to run the cell. You can also run the cell by clicking on the \"Run\" button in the above Jupyter pane. When working with students, a common bug is forgetting to run this cell."
   ]
  },
  {
   "cell_type": "code",
   "execution_count": null,
   "id": "ab32a90a-2a12-4143-9ec3-08ec28839404",
   "metadata": {},
   "outputs": [],
   "source": [
    "# Don't change this cell; just run it. \n",
    "import numpy as np\n",
    "from datascience import *\n",
    "\n",
    "# These lines do some fancy plotting magic.\n",
    "import matplotlib\n",
    "%matplotlib inline\n",
    "import matplotlib.pyplot as plt"
   ]
  },
  {
   "cell_type": "markdown",
   "id": "958db7e7-335d-492d-b44f-bc2242d01422",
   "metadata": {},
   "source": [
    "## Adding Markdown Cells\n",
    "\n",
    "Instructions and background information can be added to Jupyter notebooks with markdown cells. Double click on this cell and play around with editing the markdown cell. \"#\" in the title allow us to control font size/style\n",
    "\n",
    "### Some Useful Features\n",
    "\n",
    "You can insert equations with LaTeX:\n",
    "\n",
    "\\begin{equation} \n",
    "e^{\\pi i} + 1 = 0\n",
    "\\end{equation}\n",
    "\n",
    "You can add tables:\n",
    "\n",
    "| Function | Description                                                   |\n",
    "|----------|---------------------------------------------------------------|\n",
    "| `abs`      | Returns the absolute value of its argument                    |\n",
    "| `max`      | Returns the maximum of all its arguments                      |\n",
    "| `min`      | Returns the minimum of all its arguments                      |\n",
    "| `pow`      | Raises its first argument to the power of its second argument |\n",
    "| `round`    | Rounds its argument to the nearest integer                     |\n",
    "\n",
    "\n",
    "You can denote important information in **bold**, *italics*, or <span style=\"color: #BC412B\">**color**</span>.\n",
    "\n",
    "You can add [links](https://www.espn.com/college-football/game/_/gameId/401404041).\n",
    "\n",
    "You can insert images (from filepath):\n",
    "\n",
    "<img src=\"images/data8.png\">"
   ]
  },
  {
   "cell_type": "markdown",
   "id": "ef9cdf4c-e893-46d1-bb4a-db531fe9d703",
   "metadata": {},
   "source": [
    "## Loading Data into a Table"
   ]
  },
  {
   "cell_type": "markdown",
   "id": "f7b814e1-97e4-4dd2-b096-5dc882d6c15a",
   "metadata": {},
   "source": [
    "We can create tables in several different ways with the `datascience` module. One such way is to do it manually via `with_columns`:"
   ]
  },
  {
   "cell_type": "code",
   "execution_count": null,
   "id": "035b4ac2-abb6-4034-ba98-25313638867a",
   "metadata": {},
   "outputs": [],
   "source": [
    "t = Table().with_columns(\n",
    "    'Player', ['Curry', 'James', 'Jokic', 'Butler'],\n",
    "    'Points',  [  31,   25,   29,   19],\n",
    "    'Assists', [  6,   9,   12,  10],\n",
    ")\n",
    "t"
   ]
  },
  {
   "cell_type": "markdown",
   "id": "a0f27829-5d6f-4108-b652-bebdc3556675",
   "metadata": {},
   "source": [
    "More commonly, we will want to load data from a pre-existing csv file."
   ]
  },
  {
   "cell_type": "code",
   "execution_count": null,
   "id": "b75472ef-e22f-43cf-8afe-773b6b084a44",
   "metadata": {},
   "outputs": [],
   "source": [
    "power_plants = Table().read_table('data/California_Power_Plants.csv')\t\n",
    "power_plants.show(5)"
   ]
  },
  {
   "cell_type": "markdown",
   "id": "12612e22-4402-4a87-af5e-02f8856232c8",
   "metadata": {},
   "source": [
    "You can also load data from a URL."
   ]
  },
  {
   "cell_type": "code",
   "execution_count": null,
   "id": "ad101549-9091-4fa9-8c12-2a3eabc32e0f",
   "metadata": {},
   "outputs": [],
   "source": [
    "sat = Table().read_table('https://www.inferentialthinking.com/data/sat2014.csv')\n",
    "sat.show(5)"
   ]
  },
  {
   "cell_type": "markdown",
   "id": "d73c2056-ca8e-4d74-a527-e382c9897671",
   "metadata": {
    "tags": []
   },
   "source": [
    "## Workflow\n",
    "\n",
    "Below we demonstrate an example workflow, excerpted from Data 8 Homework 5, Spring 2023."
   ]
  },
  {
   "cell_type": "markdown",
   "id": "64cb3e83-f9c8-41c0-8b6e-130b182981f1",
   "metadata": {},
   "source": [
    "*First, we start with some background about the dataset and load in the dataset.*\n",
    "\n",
    "James is trying to analyze how well the Cal football team performed in the 2021 season. A football game is divided into four periods, called quarters. The number of points Cal scored in each quarter and the number of points their opponent scored in each quarter are stored in a file called `cal_fb.csv`."
   ]
  },
  {
   "cell_type": "code",
   "execution_count": null,
   "id": "20fae30d-5e00-4858-82c5-8c70bbcdc849",
   "metadata": {},
   "outputs": [],
   "source": [
    "# Just run this cell\n",
    "# Read in the cal_fb csv file as a table called games\n",
    "games = Table().read_table(\"data/cal_fb.csv\")\n",
    "games.show()"
   ]
  },
  {
   "cell_type": "markdown",
   "id": "4f6335da-ba0b-4089-add5-d210e6c89732",
   "metadata": {},
   "source": [
    "*An example question. The skeleton code cell below can have varying levels of scaffolding depending on the audience and learning goals.*\n",
    "\n",
    "Let's start by finding the total points each team scored in a game.\n",
    "\n",
    "**Question 1.** Write a function called `sum_scores`.  It should take four arguments, where each argument represents integers corresponding to the team's score for each quarter. It should return the team's total score for that game. \n",
    "\n",
    "*Hint:* Don't overthink this question!\n",
    "\n",
    "\n",
    "<!--\n",
    "BEGIN QUESTION\n",
    "name: q1_1\n",
    "manual: false\n",
    "points:\n",
    " - 1\n",
    " - 1\n",
    "-->"
   ]
  },
  {
   "cell_type": "code",
   "execution_count": null,
   "id": "bcc9fd54-0a1b-4b33-acc9-b87ac84aefa9",
   "metadata": {},
   "outputs": [],
   "source": [
    "def sum_scores(..., ..., ..., ...):\n",
    "    '''Returns the total score calculated by adding up the score of each quarter'''\n",
    "    ...\n",
    "\n",
    "sum_scores(14, 7, 3, 0) #DO NOT CHANGE THIS LINE"
   ]
  },
  {
   "cell_type": "code",
   "execution_count": null,
   "id": "84266b17-d946-4dd6-8e00-3d18e47e8c1e",
   "metadata": {},
   "outputs": [],
   "source": [
    "grader.check(\"q1_1\")"
   ]
  },
  {
   "cell_type": "markdown",
   "id": "6ffd8fdf-b8c7-4d31-a20f-ed64131f8b72",
   "metadata": {},
   "source": [
    "*A question that requires more critical thinking with very little scaffolding provided in the skeleton.*\n",
    "\n",
    "**Question 2.** Create a new table `final_scores` with three columns in this *specific* order: `Opponent`, `Cal Score`, `Opponent Score`. You will have to create the `Cal Score` and `Opponent Score` columns. Use the function `sum_scores` you just defined in the previous question for this problem. **(5 Points)**\n",
    "\n",
    "*Hint:* If you want to apply a function that takes in multiple arguments, you can pass multiple column names as arguments in `tbl.apply()`. The column values will be passed into the corresponding arguments of the function. Take a look at the Python Reference Sheet and Lecture 13's demo for syntax.\n",
    "\n",
    "*Note:* If you’re running into issues creating `final_scores`, check that `cal_scores` and `opp_scores` output what you want. If you're encountering `TypeError`s, check the [Python Reference](https://www.data8.org/sp23/reference/) to see if the inputs/outputs of the function are what you expect.\n",
    "\n",
    "<!--\n",
    "BEGIN QUESTION\n",
    "name: q1_2\n",
    "manual: false\n",
    "points:\n",
    " - 0\n",
    " - 0\n",
    " - 5\n",
    "-->"
   ]
  },
  {
   "cell_type": "code",
   "execution_count": null,
   "id": "aa3242a2-616f-4a25-ab96-a7510a004cfe",
   "metadata": {},
   "outputs": [],
   "source": [
    "cal_scores = ...\n",
    "opp_scores = ...\n",
    "final_scores = ...\n",
    "final_scores"
   ]
  },
  {
   "cell_type": "code",
   "execution_count": null,
   "id": "360b48f6-85ab-4164-9a94-f9e5d567bc79",
   "metadata": {},
   "outputs": [],
   "source": [
    "grader.check(\"q1_2\")"
   ]
  },
  {
   "cell_type": "markdown",
   "id": "482a54f4-dec6-48cb-a489-64299b4c6004",
   "metadata": {},
   "source": [
    "*An example of a written question where students answer by entering text into a markdown cell.*\n",
    "\n",
    "**Question 3**. James attempts question 2, but he does not pass any column names into apply. Explain why this approach results in an error and how he can fix it."
   ]
  },
  {
   "cell_type": "markdown",
   "id": "03761962-72f3-4372-b9c5-356b30f3ab03",
   "metadata": {},
   "source": [
    "_Type your answer here, replacing this text._"
   ]
  },
  {
   "cell_type": "markdown",
   "id": "2f67d908-3d34-4aa0-bb56-cada1b4b9ba1",
   "metadata": {},
   "source": [
    "## Common Student Errors"
   ]
  },
  {
   "cell_type": "code",
   "execution_count": null,
   "id": "663b317d-40e9-44cd-b13b-05540c860b19",
   "metadata": {},
   "outputs": [],
   "source": [
    "sat = Table().read_table('https://www.inferentialthinking.com/data/sat2014.csv')\n",
    "sat.show(5)"
   ]
  },
  {
   "cell_type": "markdown",
   "id": "55dc060f-7f35-4df8-b5a7-2ad1e4c08276",
   "metadata": {},
   "source": [
    "One common student error is destructively modifying data and running cells in a non-linear order. For example, try running the below cell twice. The first time works fine, but the second time there is an error because the `state` column no longer exists in the table!"
   ]
  },
  {
   "cell_type": "code",
   "execution_count": null,
   "id": "95e532e3-591b-4cf3-9b38-cbafde35566a",
   "metadata": {},
   "outputs": [],
   "source": [
    "states_arr = sat.column('State')\n",
    "sat = sat.drop('State')\n",
    "sat.show(5)"
   ]
  },
  {
   "cell_type": "markdown",
   "id": "a8615047-a3f4-432f-b4a0-28d95c383b95",
   "metadata": {},
   "source": [
    "Another common error is when students call packages that are not imported (correctly) or run cells before running the import cells where packages are installed. The latter is especially common when students return to work on assignments after leaving them open for several hours. "
   ]
  },
  {
   "cell_type": "code",
   "execution_count": null,
   "id": "1c5191d4-a1bb-403d-8f9b-f13c798dccbb",
   "metadata": {},
   "outputs": [],
   "source": [
    "sns.histplot(sat.column(\"Combined\"))"
   ]
  },
  {
   "cell_type": "markdown",
   "id": "2a55a31a-b4f2-444c-a326-c40a2f3937dd",
   "metadata": {},
   "source": [
    "## Keyboard Shortcuts\n",
    "\n",
    "Jupyter uses some really useful keyboard shortcuts that make authoring, navigating and running notebooks a more seamless experience. Some useful ones are listed below but you can also find a more comprehensive guide [here](https://towardsdatascience.com/jypyter-notebook-shortcuts-bf0101a98330). \n",
    "\n",
    "The following shortcuts work at any time: \n",
    "- `shift` + `enter` : Run selected cell and move cursor to the next cell directly below\n",
    "- `ctrl` / `cmd` + `enter` : Run selected cell and stay on the same cell (useful if you need to run the same cell multiple times) \n",
    "\n",
    "The following shortcuts only work when in command mode (i.e. not editing the contents of a specific cell): \n",
    "- `enter` - Edit the selected cell \n",
    "- `a` : Insert a new code cell above selected cell  \n",
    "- `b` : Insert a new code cell below selected cell\n",
    "- `d, d` : Delete selected cell \n",
    "- `y` : Convert selected cell to Code cell \n",
    "- `m` : Convert selected cell to Markdown cell"
   ]
  }
 ],
 "metadata": {
  "kernelspec": {
   "display_name": "Python 3 (ipykernel)",
   "language": "python",
   "name": "python3"
  },
  "language_info": {
   "codemirror_mode": {
    "name": "ipython",
    "version": 3
   },
   "file_extension": ".py",
   "mimetype": "text/x-python",
   "name": "python",
   "nbconvert_exporter": "python",
   "pygments_lexer": "ipython3",
   "version": "3.9.16"
  }
 },
 "nbformat": 4,
 "nbformat_minor": 5
}
